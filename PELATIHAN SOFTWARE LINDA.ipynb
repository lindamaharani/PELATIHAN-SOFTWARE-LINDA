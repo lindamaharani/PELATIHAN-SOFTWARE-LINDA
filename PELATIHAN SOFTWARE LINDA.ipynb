{
 "cells": [
  {
   "cell_type": "code",
   "execution_count": 1,
   "id": "dc6a287d",
   "metadata": {},
   "outputs": [],
   "source": [
    "import pandas as pd"
   ]
  },
  {
   "cell_type": "code",
   "execution_count": 2,
   "id": "9eae0494",
   "metadata": {},
   "outputs": [],
   "source": [
    "data = pd.read_csv('https://raw.githubusercontent.com/imdwipayana/Python-Project-2023/main/Project/asuransi_mobil.csv')"
   ]
  },
  {
   "cell_type": "code",
   "execution_count": 3,
   "id": "00333b21",
   "metadata": {},
   "outputs": [
    {
     "data": {
      "text/html": [
       "<div>\n",
       "<style scoped>\n",
       "    .dataframe tbody tr th:only-of-type {\n",
       "        vertical-align: middle;\n",
       "    }\n",
       "\n",
       "    .dataframe tbody tr th {\n",
       "        vertical-align: top;\n",
       "    }\n",
       "\n",
       "    .dataframe thead th {\n",
       "        text-align: right;\n",
       "    }\n",
       "</style>\n",
       "<table border=\"1\" class=\"dataframe\">\n",
       "  <thead>\n",
       "    <tr style=\"text-align: right;\">\n",
       "      <th></th>\n",
       "      <th>IDENTITAS</th>\n",
       "      <th>UMUR</th>\n",
       "      <th>JENIS_KELAMIN</th>\n",
       "      <th>PENGALAMAN_MENGEMUDI</th>\n",
       "      <th>PENDIDIKAN</th>\n",
       "      <th>PENGHASILAN</th>\n",
       "      <th>SKOR_KREDIT</th>\n",
       "      <th>PEMILIK_KENDARAAN</th>\n",
       "      <th>TAHUN_PRODUKSI</th>\n",
       "      <th>STATUS</th>\n",
       "      <th>ANAK</th>\n",
       "      <th>KODE_POS</th>\n",
       "      <th>KM_PER_TAHUN</th>\n",
       "      <th>JENIS_KENDARAAN</th>\n",
       "      <th>TILANG_NGEBUT</th>\n",
       "      <th>TILANG_MABUK</th>\n",
       "      <th>KECELAKAAN_SEBELUMNYA</th>\n",
       "      <th>KLAIM</th>\n",
       "    </tr>\n",
       "  </thead>\n",
       "  <tbody>\n",
       "    <tr>\n",
       "      <th>0</th>\n",
       "      <td>569520</td>\n",
       "      <td>lebih dari 65 tahun</td>\n",
       "      <td>perempuan</td>\n",
       "      <td>kurang dari 10 tahun</td>\n",
       "      <td>SMA</td>\n",
       "      <td>lebih dari 3x UMR</td>\n",
       "      <td>0.629027</td>\n",
       "      <td>ya</td>\n",
       "      <td>setelah 2020</td>\n",
       "      <td>belum menikah</td>\n",
       "      <td>ada</td>\n",
       "      <td>10238</td>\n",
       "      <td>12000.0</td>\n",
       "      <td>keluarga</td>\n",
       "      <td>0</td>\n",
       "      <td>0</td>\n",
       "      <td>0</td>\n",
       "      <td>tidak</td>\n",
       "    </tr>\n",
       "    <tr>\n",
       "      <th>1</th>\n",
       "      <td>750365</td>\n",
       "      <td>kurang dari 25 tahun</td>\n",
       "      <td>laki-laki</td>\n",
       "      <td>kurang dari 10 tahun</td>\n",
       "      <td>tidak ada</td>\n",
       "      <td>kurang dari UMR</td>\n",
       "      <td>0.357757</td>\n",
       "      <td>tidak</td>\n",
       "      <td>sebelum 2020</td>\n",
       "      <td>belum menikah</td>\n",
       "      <td>tidak ada</td>\n",
       "      <td>10238</td>\n",
       "      <td>16000.0</td>\n",
       "      <td>keluarga</td>\n",
       "      <td>0</td>\n",
       "      <td>0</td>\n",
       "      <td>0</td>\n",
       "      <td>ya</td>\n",
       "    </tr>\n",
       "    <tr>\n",
       "      <th>2</th>\n",
       "      <td>199901</td>\n",
       "      <td>kurang dari 25 tahun</td>\n",
       "      <td>perempuan</td>\n",
       "      <td>kurang dari 10 tahun</td>\n",
       "      <td>SMA</td>\n",
       "      <td>antara 1-2x UMR</td>\n",
       "      <td>0.493146</td>\n",
       "      <td>ya</td>\n",
       "      <td>sebelum 2020</td>\n",
       "      <td>belum menikah</td>\n",
       "      <td>tidak ada</td>\n",
       "      <td>10238</td>\n",
       "      <td>11000.0</td>\n",
       "      <td>keluarga</td>\n",
       "      <td>0</td>\n",
       "      <td>0</td>\n",
       "      <td>0</td>\n",
       "      <td>tidak</td>\n",
       "    </tr>\n",
       "    <tr>\n",
       "      <th>3</th>\n",
       "      <td>478866</td>\n",
       "      <td>kurang dari 25 tahun</td>\n",
       "      <td>laki-laki</td>\n",
       "      <td>kurang dari 10 tahun</td>\n",
       "      <td>universitas</td>\n",
       "      <td>antara 1-2x UMR</td>\n",
       "      <td>0.206013</td>\n",
       "      <td>ya</td>\n",
       "      <td>sebelum 2020</td>\n",
       "      <td>belum menikah</td>\n",
       "      <td>ada</td>\n",
       "      <td>32765</td>\n",
       "      <td>11000.0</td>\n",
       "      <td>keluarga</td>\n",
       "      <td>0</td>\n",
       "      <td>0</td>\n",
       "      <td>0</td>\n",
       "      <td>tidak</td>\n",
       "    </tr>\n",
       "    <tr>\n",
       "      <th>4</th>\n",
       "      <td>731664</td>\n",
       "      <td>antara 25-40 tahun</td>\n",
       "      <td>laki-laki</td>\n",
       "      <td>antara 10-20 tahun</td>\n",
       "      <td>tidak ada</td>\n",
       "      <td>antara 1-2x UMR</td>\n",
       "      <td>0.388366</td>\n",
       "      <td>ya</td>\n",
       "      <td>sebelum 2020</td>\n",
       "      <td>belum menikah</td>\n",
       "      <td>tidak ada</td>\n",
       "      <td>32765</td>\n",
       "      <td>12000.0</td>\n",
       "      <td>keluarga</td>\n",
       "      <td>2</td>\n",
       "      <td>0</td>\n",
       "      <td>1</td>\n",
       "      <td>ya</td>\n",
       "    </tr>\n",
       "  </tbody>\n",
       "</table>\n",
       "</div>"
      ],
      "text/plain": [
       "   IDENTITAS                  UMUR JENIS_KELAMIN  PENGALAMAN_MENGEMUDI  \\\n",
       "0     569520   lebih dari 65 tahun     perempuan  kurang dari 10 tahun   \n",
       "1     750365  kurang dari 25 tahun     laki-laki  kurang dari 10 tahun   \n",
       "2     199901  kurang dari 25 tahun     perempuan  kurang dari 10 tahun   \n",
       "3     478866  kurang dari 25 tahun     laki-laki  kurang dari 10 tahun   \n",
       "4     731664    antara 25-40 tahun     laki-laki    antara 10-20 tahun   \n",
       "\n",
       "    PENDIDIKAN        PENGHASILAN  SKOR_KREDIT PEMILIK_KENDARAAN  \\\n",
       "0          SMA  lebih dari 3x UMR     0.629027                ya   \n",
       "1    tidak ada    kurang dari UMR     0.357757             tidak   \n",
       "2          SMA    antara 1-2x UMR     0.493146                ya   \n",
       "3  universitas    antara 1-2x UMR     0.206013                ya   \n",
       "4    tidak ada    antara 1-2x UMR     0.388366                ya   \n",
       "\n",
       "  TAHUN_PRODUKSI         STATUS       ANAK  KODE_POS  KM_PER_TAHUN  \\\n",
       "0   setelah 2020  belum menikah        ada     10238       12000.0   \n",
       "1   sebelum 2020  belum menikah  tidak ada     10238       16000.0   \n",
       "2   sebelum 2020  belum menikah  tidak ada     10238       11000.0   \n",
       "3   sebelum 2020  belum menikah        ada     32765       11000.0   \n",
       "4   sebelum 2020  belum menikah  tidak ada     32765       12000.0   \n",
       "\n",
       "  JENIS_KENDARAAN  TILANG_NGEBUT  TILANG_MABUK  KECELAKAAN_SEBELUMNYA  KLAIM  \n",
       "0        keluarga              0             0                      0  tidak  \n",
       "1        keluarga              0             0                      0     ya  \n",
       "2        keluarga              0             0                      0  tidak  \n",
       "3        keluarga              0             0                      0  tidak  \n",
       "4        keluarga              2             0                      1     ya  "
      ]
     },
     "execution_count": 3,
     "metadata": {},
     "output_type": "execute_result"
    }
   ],
   "source": [
    "data.head()"
   ]
  },
  {
   "cell_type": "code",
   "execution_count": 4,
   "id": "af774c28",
   "metadata": {},
   "outputs": [
    {
     "data": {
      "text/html": [
       "<div>\n",
       "<style scoped>\n",
       "    .dataframe tbody tr th:only-of-type {\n",
       "        vertical-align: middle;\n",
       "    }\n",
       "\n",
       "    .dataframe tbody tr th {\n",
       "        vertical-align: top;\n",
       "    }\n",
       "\n",
       "    .dataframe thead th {\n",
       "        text-align: right;\n",
       "    }\n",
       "</style>\n",
       "<table border=\"1\" class=\"dataframe\">\n",
       "  <thead>\n",
       "    <tr style=\"text-align: right;\">\n",
       "      <th></th>\n",
       "      <th>IDENTITAS</th>\n",
       "      <th>SKOR_KREDIT</th>\n",
       "      <th>KODE_POS</th>\n",
       "      <th>KM_PER_TAHUN</th>\n",
       "      <th>TILANG_NGEBUT</th>\n",
       "      <th>TILANG_MABUK</th>\n",
       "      <th>KECELAKAAN_SEBELUMNYA</th>\n",
       "    </tr>\n",
       "  </thead>\n",
       "  <tbody>\n",
       "    <tr>\n",
       "      <th>count</th>\n",
       "      <td>10000.000000</td>\n",
       "      <td>9018.000000</td>\n",
       "      <td>10000.000000</td>\n",
       "      <td>9043.000000</td>\n",
       "      <td>10000.000000</td>\n",
       "      <td>10000.00000</td>\n",
       "      <td>10000.000000</td>\n",
       "    </tr>\n",
       "    <tr>\n",
       "      <th>mean</th>\n",
       "      <td>500521.906800</td>\n",
       "      <td>0.515813</td>\n",
       "      <td>19864.548400</td>\n",
       "      <td>11697.003207</td>\n",
       "      <td>1.482900</td>\n",
       "      <td>0.23920</td>\n",
       "      <td>1.056300</td>\n",
       "    </tr>\n",
       "    <tr>\n",
       "      <th>std</th>\n",
       "      <td>290030.768758</td>\n",
       "      <td>0.137688</td>\n",
       "      <td>18915.613855</td>\n",
       "      <td>2818.434528</td>\n",
       "      <td>2.241966</td>\n",
       "      <td>0.55499</td>\n",
       "      <td>1.652454</td>\n",
       "    </tr>\n",
       "    <tr>\n",
       "      <th>min</th>\n",
       "      <td>101.000000</td>\n",
       "      <td>0.053358</td>\n",
       "      <td>10238.000000</td>\n",
       "      <td>2000.000000</td>\n",
       "      <td>0.000000</td>\n",
       "      <td>0.00000</td>\n",
       "      <td>0.000000</td>\n",
       "    </tr>\n",
       "    <tr>\n",
       "      <th>25%</th>\n",
       "      <td>249638.500000</td>\n",
       "      <td>0.417191</td>\n",
       "      <td>10238.000000</td>\n",
       "      <td>10000.000000</td>\n",
       "      <td>0.000000</td>\n",
       "      <td>0.00000</td>\n",
       "      <td>0.000000</td>\n",
       "    </tr>\n",
       "    <tr>\n",
       "      <th>50%</th>\n",
       "      <td>501777.000000</td>\n",
       "      <td>0.525033</td>\n",
       "      <td>10238.000000</td>\n",
       "      <td>12000.000000</td>\n",
       "      <td>0.000000</td>\n",
       "      <td>0.00000</td>\n",
       "      <td>0.000000</td>\n",
       "    </tr>\n",
       "    <tr>\n",
       "      <th>75%</th>\n",
       "      <td>753974.500000</td>\n",
       "      <td>0.618312</td>\n",
       "      <td>32765.000000</td>\n",
       "      <td>14000.000000</td>\n",
       "      <td>2.000000</td>\n",
       "      <td>0.00000</td>\n",
       "      <td>2.000000</td>\n",
       "    </tr>\n",
       "    <tr>\n",
       "      <th>max</th>\n",
       "      <td>999976.000000</td>\n",
       "      <td>0.960819</td>\n",
       "      <td>92101.000000</td>\n",
       "      <td>22000.000000</td>\n",
       "      <td>22.000000</td>\n",
       "      <td>6.00000</td>\n",
       "      <td>15.000000</td>\n",
       "    </tr>\n",
       "  </tbody>\n",
       "</table>\n",
       "</div>"
      ],
      "text/plain": [
       "           IDENTITAS  SKOR_KREDIT      KODE_POS  KM_PER_TAHUN  TILANG_NGEBUT  \\\n",
       "count   10000.000000  9018.000000  10000.000000   9043.000000   10000.000000   \n",
       "mean   500521.906800     0.515813  19864.548400  11697.003207       1.482900   \n",
       "std    290030.768758     0.137688  18915.613855   2818.434528       2.241966   \n",
       "min       101.000000     0.053358  10238.000000   2000.000000       0.000000   \n",
       "25%    249638.500000     0.417191  10238.000000  10000.000000       0.000000   \n",
       "50%    501777.000000     0.525033  10238.000000  12000.000000       0.000000   \n",
       "75%    753974.500000     0.618312  32765.000000  14000.000000       2.000000   \n",
       "max    999976.000000     0.960819  92101.000000  22000.000000      22.000000   \n",
       "\n",
       "       TILANG_MABUK  KECELAKAAN_SEBELUMNYA  \n",
       "count   10000.00000           10000.000000  \n",
       "mean        0.23920               1.056300  \n",
       "std         0.55499               1.652454  \n",
       "min         0.00000               0.000000  \n",
       "25%         0.00000               0.000000  \n",
       "50%         0.00000               0.000000  \n",
       "75%         0.00000               2.000000  \n",
       "max         6.00000              15.000000  "
      ]
     },
     "execution_count": 4,
     "metadata": {},
     "output_type": "execute_result"
    }
   ],
   "source": [
    "data.describe()"
   ]
  },
  {
   "cell_type": "code",
   "execution_count": 5,
   "id": "93bbc9aa",
   "metadata": {},
   "outputs": [
    {
     "data": {
      "text/plain": [
       "IDENTITAS                  int64\n",
       "UMUR                      object\n",
       "JENIS_KELAMIN             object\n",
       "PENGALAMAN_MENGEMUDI      object\n",
       "PENDIDIKAN                object\n",
       "PENGHASILAN               object\n",
       "SKOR_KREDIT              float64\n",
       "PEMILIK_KENDARAAN         object\n",
       "TAHUN_PRODUKSI            object\n",
       "STATUS                    object\n",
       "ANAK                      object\n",
       "KODE_POS                   int64\n",
       "KM_PER_TAHUN             float64\n",
       "JENIS_KENDARAAN           object\n",
       "TILANG_NGEBUT              int64\n",
       "TILANG_MABUK               int64\n",
       "KECELAKAAN_SEBELUMNYA      int64\n",
       "KLAIM                     object\n",
       "dtype: object"
      ]
     },
     "execution_count": 5,
     "metadata": {},
     "output_type": "execute_result"
    }
   ],
   "source": [
    "data.dtypes"
   ]
  },
  {
   "cell_type": "code",
   "execution_count": 6,
   "id": "fefee06e",
   "metadata": {},
   "outputs": [
    {
     "data": {
      "text/plain": [
       "IDENTITAS                  0\n",
       "UMUR                       0\n",
       "JENIS_KELAMIN              0\n",
       "PENGALAMAN_MENGEMUDI       0\n",
       "PENDIDIKAN                 0\n",
       "PENGHASILAN                0\n",
       "SKOR_KREDIT              982\n",
       "PEMILIK_KENDARAAN          0\n",
       "TAHUN_PRODUKSI             0\n",
       "STATUS                     0\n",
       "ANAK                       0\n",
       "KODE_POS                   0\n",
       "KM_PER_TAHUN             957\n",
       "JENIS_KENDARAAN            0\n",
       "TILANG_NGEBUT              0\n",
       "TILANG_MABUK               0\n",
       "KECELAKAAN_SEBELUMNYA      0\n",
       "KLAIM                      0\n",
       "dtype: int64"
      ]
     },
     "execution_count": 6,
     "metadata": {},
     "output_type": "execute_result"
    }
   ],
   "source": [
    "data.isnull().sum()"
   ]
  },
  {
   "cell_type": "code",
   "execution_count": 7,
   "id": "de3b4d3e",
   "metadata": {},
   "outputs": [
    {
     "data": {
      "text/plain": [
       "array(['belum menikah', 'menikah'], dtype=object)"
      ]
     },
     "execution_count": 7,
     "metadata": {},
     "output_type": "execute_result"
    }
   ],
   "source": [
    "data.STATUS.unique()"
   ]
  },
  {
   "cell_type": "code",
   "execution_count": 8,
   "id": "26209d12",
   "metadata": {},
   "outputs": [
    {
     "data": {
      "text/plain": [
       "array([0.62902731, 0.35775712, 0.49314579, ..., 0.47094023, 0.36418478,\n",
       "       0.43522478])"
      ]
     },
     "execution_count": 8,
     "metadata": {},
     "output_type": "execute_result"
    }
   ],
   "source": [
    "data.SKOR_KREDIT.unique()"
   ]
  },
  {
   "cell_type": "code",
   "execution_count": 9,
   "id": "5b2409ee",
   "metadata": {},
   "outputs": [
    {
     "data": {
      "text/plain": [
       "array(['tidak', 'ya'], dtype=object)"
      ]
     },
     "execution_count": 9,
     "metadata": {},
     "output_type": "execute_result"
    }
   ],
   "source": [
    "data.KLAIM.unique()"
   ]
  },
  {
   "cell_type": "code",
   "execution_count": 10,
   "id": "c95d1f03",
   "metadata": {},
   "outputs": [
    {
     "data": {
      "text/plain": [
       "array(['kurang dari 10 tahun', 'antara 10-20 tahun', 'antara 20-30 tahun',\n",
       "       'lebih dari 30 tahun'], dtype=object)"
      ]
     },
     "execution_count": 10,
     "metadata": {},
     "output_type": "execute_result"
    }
   ],
   "source": [
    "data.PENGALAMAN_MENGEMUDI.unique()"
   ]
  },
  {
   "cell_type": "code",
   "execution_count": 11,
   "id": "4a22e5a7",
   "metadata": {},
   "outputs": [
    {
     "data": {
      "text/plain": [
       "array(['lebih dari 65 tahun', 'kurang dari 25 tahun',\n",
       "       'antara 25-40 tahun', 'antara 40-65 tahun'], dtype=object)"
      ]
     },
     "execution_count": 11,
     "metadata": {},
     "output_type": "execute_result"
    }
   ],
   "source": [
    "data.UMUR.unique()"
   ]
  },
  {
   "cell_type": "code",
   "execution_count": 12,
   "id": "eec0dfaa",
   "metadata": {},
   "outputs": [],
   "source": [
    "data_categorical =['SKOR_KREDIT','KM_PER_TAHUN']"
   ]
  },
  {
   "cell_type": "code",
   "execution_count": 13,
   "id": "8fd0e64c",
   "metadata": {},
   "outputs": [],
   "source": [
    "data_drop = data.drop(data_categorical, axis =1) "
   ]
  },
  {
   "cell_type": "code",
   "execution_count": 14,
   "id": "aaf327e0",
   "metadata": {},
   "outputs": [
    {
     "data": {
      "text/html": [
       "<div>\n",
       "<style scoped>\n",
       "    .dataframe tbody tr th:only-of-type {\n",
       "        vertical-align: middle;\n",
       "    }\n",
       "\n",
       "    .dataframe tbody tr th {\n",
       "        vertical-align: top;\n",
       "    }\n",
       "\n",
       "    .dataframe thead th {\n",
       "        text-align: right;\n",
       "    }\n",
       "</style>\n",
       "<table border=\"1\" class=\"dataframe\">\n",
       "  <thead>\n",
       "    <tr style=\"text-align: right;\">\n",
       "      <th></th>\n",
       "      <th>IDENTITAS</th>\n",
       "      <th>UMUR</th>\n",
       "      <th>JENIS_KELAMIN</th>\n",
       "      <th>PENGALAMAN_MENGEMUDI</th>\n",
       "      <th>PENDIDIKAN</th>\n",
       "      <th>PENGHASILAN</th>\n",
       "      <th>PEMILIK_KENDARAAN</th>\n",
       "      <th>TAHUN_PRODUKSI</th>\n",
       "      <th>STATUS</th>\n",
       "      <th>ANAK</th>\n",
       "      <th>KODE_POS</th>\n",
       "      <th>JENIS_KENDARAAN</th>\n",
       "      <th>TILANG_NGEBUT</th>\n",
       "      <th>TILANG_MABUK</th>\n",
       "      <th>KECELAKAAN_SEBELUMNYA</th>\n",
       "      <th>KLAIM</th>\n",
       "    </tr>\n",
       "  </thead>\n",
       "  <tbody>\n",
       "    <tr>\n",
       "      <th>0</th>\n",
       "      <td>569520</td>\n",
       "      <td>lebih dari 65 tahun</td>\n",
       "      <td>perempuan</td>\n",
       "      <td>kurang dari 10 tahun</td>\n",
       "      <td>SMA</td>\n",
       "      <td>lebih dari 3x UMR</td>\n",
       "      <td>ya</td>\n",
       "      <td>setelah 2020</td>\n",
       "      <td>belum menikah</td>\n",
       "      <td>ada</td>\n",
       "      <td>10238</td>\n",
       "      <td>keluarga</td>\n",
       "      <td>0</td>\n",
       "      <td>0</td>\n",
       "      <td>0</td>\n",
       "      <td>tidak</td>\n",
       "    </tr>\n",
       "    <tr>\n",
       "      <th>1</th>\n",
       "      <td>750365</td>\n",
       "      <td>kurang dari 25 tahun</td>\n",
       "      <td>laki-laki</td>\n",
       "      <td>kurang dari 10 tahun</td>\n",
       "      <td>tidak ada</td>\n",
       "      <td>kurang dari UMR</td>\n",
       "      <td>tidak</td>\n",
       "      <td>sebelum 2020</td>\n",
       "      <td>belum menikah</td>\n",
       "      <td>tidak ada</td>\n",
       "      <td>10238</td>\n",
       "      <td>keluarga</td>\n",
       "      <td>0</td>\n",
       "      <td>0</td>\n",
       "      <td>0</td>\n",
       "      <td>ya</td>\n",
       "    </tr>\n",
       "    <tr>\n",
       "      <th>2</th>\n",
       "      <td>199901</td>\n",
       "      <td>kurang dari 25 tahun</td>\n",
       "      <td>perempuan</td>\n",
       "      <td>kurang dari 10 tahun</td>\n",
       "      <td>SMA</td>\n",
       "      <td>antara 1-2x UMR</td>\n",
       "      <td>ya</td>\n",
       "      <td>sebelum 2020</td>\n",
       "      <td>belum menikah</td>\n",
       "      <td>tidak ada</td>\n",
       "      <td>10238</td>\n",
       "      <td>keluarga</td>\n",
       "      <td>0</td>\n",
       "      <td>0</td>\n",
       "      <td>0</td>\n",
       "      <td>tidak</td>\n",
       "    </tr>\n",
       "    <tr>\n",
       "      <th>3</th>\n",
       "      <td>478866</td>\n",
       "      <td>kurang dari 25 tahun</td>\n",
       "      <td>laki-laki</td>\n",
       "      <td>kurang dari 10 tahun</td>\n",
       "      <td>universitas</td>\n",
       "      <td>antara 1-2x UMR</td>\n",
       "      <td>ya</td>\n",
       "      <td>sebelum 2020</td>\n",
       "      <td>belum menikah</td>\n",
       "      <td>ada</td>\n",
       "      <td>32765</td>\n",
       "      <td>keluarga</td>\n",
       "      <td>0</td>\n",
       "      <td>0</td>\n",
       "      <td>0</td>\n",
       "      <td>tidak</td>\n",
       "    </tr>\n",
       "    <tr>\n",
       "      <th>4</th>\n",
       "      <td>731664</td>\n",
       "      <td>antara 25-40 tahun</td>\n",
       "      <td>laki-laki</td>\n",
       "      <td>antara 10-20 tahun</td>\n",
       "      <td>tidak ada</td>\n",
       "      <td>antara 1-2x UMR</td>\n",
       "      <td>ya</td>\n",
       "      <td>sebelum 2020</td>\n",
       "      <td>belum menikah</td>\n",
       "      <td>tidak ada</td>\n",
       "      <td>32765</td>\n",
       "      <td>keluarga</td>\n",
       "      <td>2</td>\n",
       "      <td>0</td>\n",
       "      <td>1</td>\n",
       "      <td>ya</td>\n",
       "    </tr>\n",
       "  </tbody>\n",
       "</table>\n",
       "</div>"
      ],
      "text/plain": [
       "   IDENTITAS                  UMUR JENIS_KELAMIN  PENGALAMAN_MENGEMUDI  \\\n",
       "0     569520   lebih dari 65 tahun     perempuan  kurang dari 10 tahun   \n",
       "1     750365  kurang dari 25 tahun     laki-laki  kurang dari 10 tahun   \n",
       "2     199901  kurang dari 25 tahun     perempuan  kurang dari 10 tahun   \n",
       "3     478866  kurang dari 25 tahun     laki-laki  kurang dari 10 tahun   \n",
       "4     731664    antara 25-40 tahun     laki-laki    antara 10-20 tahun   \n",
       "\n",
       "    PENDIDIKAN        PENGHASILAN PEMILIK_KENDARAAN TAHUN_PRODUKSI  \\\n",
       "0          SMA  lebih dari 3x UMR                ya   setelah 2020   \n",
       "1    tidak ada    kurang dari UMR             tidak   sebelum 2020   \n",
       "2          SMA    antara 1-2x UMR                ya   sebelum 2020   \n",
       "3  universitas    antara 1-2x UMR                ya   sebelum 2020   \n",
       "4    tidak ada    antara 1-2x UMR                ya   sebelum 2020   \n",
       "\n",
       "          STATUS       ANAK  KODE_POS JENIS_KENDARAAN  TILANG_NGEBUT  \\\n",
       "0  belum menikah        ada     10238        keluarga              0   \n",
       "1  belum menikah  tidak ada     10238        keluarga              0   \n",
       "2  belum menikah  tidak ada     10238        keluarga              0   \n",
       "3  belum menikah        ada     32765        keluarga              0   \n",
       "4  belum menikah  tidak ada     32765        keluarga              2   \n",
       "\n",
       "   TILANG_MABUK  KECELAKAAN_SEBELUMNYA  KLAIM  \n",
       "0             0                      0  tidak  \n",
       "1             0                      0     ya  \n",
       "2             0                      0  tidak  \n",
       "3             0                      0  tidak  \n",
       "4             0                      1     ya  "
      ]
     },
     "execution_count": 14,
     "metadata": {},
     "output_type": "execute_result"
    }
   ],
   "source": [
    "data_drop.head()"
   ]
  },
  {
   "cell_type": "code",
   "execution_count": 15,
   "id": "07f0d66d",
   "metadata": {},
   "outputs": [
    {
     "data": {
      "text/plain": [
       "IDENTITAS                 int64\n",
       "UMUR                     object\n",
       "JENIS_KELAMIN            object\n",
       "PENGALAMAN_MENGEMUDI     object\n",
       "PENDIDIKAN               object\n",
       "PENGHASILAN              object\n",
       "PEMILIK_KENDARAAN        object\n",
       "TAHUN_PRODUKSI           object\n",
       "STATUS                   object\n",
       "ANAK                     object\n",
       "KODE_POS                  int64\n",
       "JENIS_KENDARAAN          object\n",
       "TILANG_NGEBUT             int64\n",
       "TILANG_MABUK              int64\n",
       "KECELAKAAN_SEBELUMNYA     int64\n",
       "KLAIM                    object\n",
       "dtype: object"
      ]
     },
     "execution_count": 15,
     "metadata": {},
     "output_type": "execute_result"
    }
   ],
   "source": [
    "data_drop.dtypes"
   ]
  },
  {
   "cell_type": "code",
   "execution_count": 16,
   "id": "ca84c301",
   "metadata": {},
   "outputs": [
    {
     "data": {
      "text/plain": [
       "IDENTITAS                0\n",
       "UMUR                     0\n",
       "JENIS_KELAMIN            0\n",
       "PENGALAMAN_MENGEMUDI     0\n",
       "PENDIDIKAN               0\n",
       "PENGHASILAN              0\n",
       "PEMILIK_KENDARAAN        0\n",
       "TAHUN_PRODUKSI           0\n",
       "STATUS                   0\n",
       "ANAK                     0\n",
       "KODE_POS                 0\n",
       "JENIS_KENDARAAN          0\n",
       "TILANG_NGEBUT            0\n",
       "TILANG_MABUK             0\n",
       "KECELAKAAN_SEBELUMNYA    0\n",
       "KLAIM                    0\n",
       "dtype: int64"
      ]
     },
     "execution_count": 16,
     "metadata": {},
     "output_type": "execute_result"
    }
   ],
   "source": [
    "data_drop.isnull().sum()"
   ]
  },
  {
   "cell_type": "code",
   "execution_count": 17,
   "id": "9dfd1e66",
   "metadata": {},
   "outputs": [
    {
     "data": {
      "text/html": [
       "<div>\n",
       "<style scoped>\n",
       "    .dataframe tbody tr th:only-of-type {\n",
       "        vertical-align: middle;\n",
       "    }\n",
       "\n",
       "    .dataframe tbody tr th {\n",
       "        vertical-align: top;\n",
       "    }\n",
       "\n",
       "    .dataframe thead th {\n",
       "        text-align: right;\n",
       "    }\n",
       "</style>\n",
       "<table border=\"1\" class=\"dataframe\">\n",
       "  <thead>\n",
       "    <tr style=\"text-align: right;\">\n",
       "      <th></th>\n",
       "      <th>IDENTITAS</th>\n",
       "      <th>SKOR_KREDIT</th>\n",
       "      <th>KODE_POS</th>\n",
       "      <th>KM_PER_TAHUN</th>\n",
       "      <th>TILANG_NGEBUT</th>\n",
       "      <th>TILANG_MABUK</th>\n",
       "      <th>KECELAKAAN_SEBELUMNYA</th>\n",
       "      <th>UMUR_antara 25-40 tahun</th>\n",
       "      <th>UMUR_antara 40-65 tahun</th>\n",
       "      <th>UMUR_kurang dari 25 tahun</th>\n",
       "      <th>...</th>\n",
       "      <th>TAHUN_PRODUKSI_sebelum 2020</th>\n",
       "      <th>TAHUN_PRODUKSI_setelah 2020</th>\n",
       "      <th>STATUS_belum menikah</th>\n",
       "      <th>STATUS_menikah</th>\n",
       "      <th>ANAK_ada</th>\n",
       "      <th>ANAK_tidak ada</th>\n",
       "      <th>JENIS_KENDARAAN_keluarga</th>\n",
       "      <th>JENIS_KENDARAAN_sport</th>\n",
       "      <th>KLAIM_tidak</th>\n",
       "      <th>KLAIM_ya</th>\n",
       "    </tr>\n",
       "  </thead>\n",
       "  <tbody>\n",
       "    <tr>\n",
       "      <th>0</th>\n",
       "      <td>569520</td>\n",
       "      <td>0.629027</td>\n",
       "      <td>10238</td>\n",
       "      <td>12000.0</td>\n",
       "      <td>0</td>\n",
       "      <td>0</td>\n",
       "      <td>0</td>\n",
       "      <td>0</td>\n",
       "      <td>0</td>\n",
       "      <td>0</td>\n",
       "      <td>...</td>\n",
       "      <td>0</td>\n",
       "      <td>1</td>\n",
       "      <td>1</td>\n",
       "      <td>0</td>\n",
       "      <td>1</td>\n",
       "      <td>0</td>\n",
       "      <td>1</td>\n",
       "      <td>0</td>\n",
       "      <td>1</td>\n",
       "      <td>0</td>\n",
       "    </tr>\n",
       "    <tr>\n",
       "      <th>1</th>\n",
       "      <td>750365</td>\n",
       "      <td>0.357757</td>\n",
       "      <td>10238</td>\n",
       "      <td>16000.0</td>\n",
       "      <td>0</td>\n",
       "      <td>0</td>\n",
       "      <td>0</td>\n",
       "      <td>0</td>\n",
       "      <td>0</td>\n",
       "      <td>1</td>\n",
       "      <td>...</td>\n",
       "      <td>1</td>\n",
       "      <td>0</td>\n",
       "      <td>1</td>\n",
       "      <td>0</td>\n",
       "      <td>0</td>\n",
       "      <td>1</td>\n",
       "      <td>1</td>\n",
       "      <td>0</td>\n",
       "      <td>0</td>\n",
       "      <td>1</td>\n",
       "    </tr>\n",
       "    <tr>\n",
       "      <th>2</th>\n",
       "      <td>199901</td>\n",
       "      <td>0.493146</td>\n",
       "      <td>10238</td>\n",
       "      <td>11000.0</td>\n",
       "      <td>0</td>\n",
       "      <td>0</td>\n",
       "      <td>0</td>\n",
       "      <td>0</td>\n",
       "      <td>0</td>\n",
       "      <td>1</td>\n",
       "      <td>...</td>\n",
       "      <td>1</td>\n",
       "      <td>0</td>\n",
       "      <td>1</td>\n",
       "      <td>0</td>\n",
       "      <td>0</td>\n",
       "      <td>1</td>\n",
       "      <td>1</td>\n",
       "      <td>0</td>\n",
       "      <td>1</td>\n",
       "      <td>0</td>\n",
       "    </tr>\n",
       "    <tr>\n",
       "      <th>3</th>\n",
       "      <td>478866</td>\n",
       "      <td>0.206013</td>\n",
       "      <td>32765</td>\n",
       "      <td>11000.0</td>\n",
       "      <td>0</td>\n",
       "      <td>0</td>\n",
       "      <td>0</td>\n",
       "      <td>0</td>\n",
       "      <td>0</td>\n",
       "      <td>1</td>\n",
       "      <td>...</td>\n",
       "      <td>1</td>\n",
       "      <td>0</td>\n",
       "      <td>1</td>\n",
       "      <td>0</td>\n",
       "      <td>1</td>\n",
       "      <td>0</td>\n",
       "      <td>1</td>\n",
       "      <td>0</td>\n",
       "      <td>1</td>\n",
       "      <td>0</td>\n",
       "    </tr>\n",
       "    <tr>\n",
       "      <th>4</th>\n",
       "      <td>731664</td>\n",
       "      <td>0.388366</td>\n",
       "      <td>32765</td>\n",
       "      <td>12000.0</td>\n",
       "      <td>2</td>\n",
       "      <td>0</td>\n",
       "      <td>1</td>\n",
       "      <td>1</td>\n",
       "      <td>0</td>\n",
       "      <td>0</td>\n",
       "      <td>...</td>\n",
       "      <td>1</td>\n",
       "      <td>0</td>\n",
       "      <td>1</td>\n",
       "      <td>0</td>\n",
       "      <td>0</td>\n",
       "      <td>1</td>\n",
       "      <td>1</td>\n",
       "      <td>0</td>\n",
       "      <td>0</td>\n",
       "      <td>1</td>\n",
       "    </tr>\n",
       "  </tbody>\n",
       "</table>\n",
       "<p>5 rows × 36 columns</p>\n",
       "</div>"
      ],
      "text/plain": [
       "   IDENTITAS  SKOR_KREDIT  KODE_POS  KM_PER_TAHUN  TILANG_NGEBUT  \\\n",
       "0     569520     0.629027     10238       12000.0              0   \n",
       "1     750365     0.357757     10238       16000.0              0   \n",
       "2     199901     0.493146     10238       11000.0              0   \n",
       "3     478866     0.206013     32765       11000.0              0   \n",
       "4     731664     0.388366     32765       12000.0              2   \n",
       "\n",
       "   TILANG_MABUK  KECELAKAAN_SEBELUMNYA  UMUR_antara 25-40 tahun  \\\n",
       "0             0                      0                        0   \n",
       "1             0                      0                        0   \n",
       "2             0                      0                        0   \n",
       "3             0                      0                        0   \n",
       "4             0                      1                        1   \n",
       "\n",
       "   UMUR_antara 40-65 tahun  UMUR_kurang dari 25 tahun  ...  \\\n",
       "0                        0                          0  ...   \n",
       "1                        0                          1  ...   \n",
       "2                        0                          1  ...   \n",
       "3                        0                          1  ...   \n",
       "4                        0                          0  ...   \n",
       "\n",
       "   TAHUN_PRODUKSI_sebelum 2020  TAHUN_PRODUKSI_setelah 2020  \\\n",
       "0                            0                            1   \n",
       "1                            1                            0   \n",
       "2                            1                            0   \n",
       "3                            1                            0   \n",
       "4                            1                            0   \n",
       "\n",
       "   STATUS_belum menikah  STATUS_menikah  ANAK_ada  ANAK_tidak ada  \\\n",
       "0                     1               0         1               0   \n",
       "1                     1               0         0               1   \n",
       "2                     1               0         0               1   \n",
       "3                     1               0         1               0   \n",
       "4                     1               0         0               1   \n",
       "\n",
       "   JENIS_KENDARAAN_keluarga  JENIS_KENDARAAN_sport  KLAIM_tidak  KLAIM_ya  \n",
       "0                         1                      0            1         0  \n",
       "1                         1                      0            0         1  \n",
       "2                         1                      0            1         0  \n",
       "3                         1                      0            1         0  \n",
       "4                         1                      0            0         1  \n",
       "\n",
       "[5 rows x 36 columns]"
      ]
     },
     "execution_count": 17,
     "metadata": {},
     "output_type": "execute_result"
    }
   ],
   "source": [
    "data_categorical = pd.get_dummies(data)\n",
    "data_categorical.head()"
   ]
  },
  {
   "cell_type": "code",
   "execution_count": 18,
   "id": "c65b0954",
   "metadata": {},
   "outputs": [
    {
     "data": {
      "text/html": [
       "<div>\n",
       "<style scoped>\n",
       "    .dataframe tbody tr th:only-of-type {\n",
       "        vertical-align: middle;\n",
       "    }\n",
       "\n",
       "    .dataframe tbody tr th {\n",
       "        vertical-align: top;\n",
       "    }\n",
       "\n",
       "    .dataframe thead th {\n",
       "        text-align: right;\n",
       "    }\n",
       "</style>\n",
       "<table border=\"1\" class=\"dataframe\">\n",
       "  <thead>\n",
       "    <tr style=\"text-align: right;\">\n",
       "      <th></th>\n",
       "      <th>IDENTITAS</th>\n",
       "      <th>UMUR</th>\n",
       "      <th>JENIS_KELAMIN</th>\n",
       "      <th>PENGALAMAN_MENGEMUDI</th>\n",
       "      <th>PENDIDIKAN</th>\n",
       "      <th>PENGHASILAN</th>\n",
       "      <th>PEMILIK_KENDARAAN</th>\n",
       "      <th>TAHUN_PRODUKSI</th>\n",
       "      <th>STATUS</th>\n",
       "      <th>ANAK</th>\n",
       "      <th>KODE_POS</th>\n",
       "      <th>JENIS_KENDARAAN</th>\n",
       "      <th>TILANG_NGEBUT</th>\n",
       "      <th>TILANG_MABUK</th>\n",
       "      <th>KECELAKAAN_SEBELUMNYA</th>\n",
       "      <th>KLAIM</th>\n",
       "    </tr>\n",
       "  </thead>\n",
       "  <tbody>\n",
       "    <tr>\n",
       "      <th>0</th>\n",
       "      <td>569520</td>\n",
       "      <td>lebih dari 65 tahun</td>\n",
       "      <td>perempuan</td>\n",
       "      <td>kurang dari 10 tahun</td>\n",
       "      <td>SMA</td>\n",
       "      <td>lebih dari 3x UMR</td>\n",
       "      <td>ya</td>\n",
       "      <td>setelah 2020</td>\n",
       "      <td>belum menikah</td>\n",
       "      <td>ada</td>\n",
       "      <td>10238</td>\n",
       "      <td>keluarga</td>\n",
       "      <td>0</td>\n",
       "      <td>0</td>\n",
       "      <td>0</td>\n",
       "      <td>tidak</td>\n",
       "    </tr>\n",
       "    <tr>\n",
       "      <th>1</th>\n",
       "      <td>750365</td>\n",
       "      <td>kurang dari 25 tahun</td>\n",
       "      <td>laki-laki</td>\n",
       "      <td>kurang dari 10 tahun</td>\n",
       "      <td>tidak ada</td>\n",
       "      <td>kurang dari UMR</td>\n",
       "      <td>tidak</td>\n",
       "      <td>sebelum 2020</td>\n",
       "      <td>belum menikah</td>\n",
       "      <td>tidak ada</td>\n",
       "      <td>10238</td>\n",
       "      <td>keluarga</td>\n",
       "      <td>0</td>\n",
       "      <td>0</td>\n",
       "      <td>0</td>\n",
       "      <td>ya</td>\n",
       "    </tr>\n",
       "    <tr>\n",
       "      <th>2</th>\n",
       "      <td>199901</td>\n",
       "      <td>kurang dari 25 tahun</td>\n",
       "      <td>perempuan</td>\n",
       "      <td>kurang dari 10 tahun</td>\n",
       "      <td>SMA</td>\n",
       "      <td>antara 1-2x UMR</td>\n",
       "      <td>ya</td>\n",
       "      <td>sebelum 2020</td>\n",
       "      <td>belum menikah</td>\n",
       "      <td>tidak ada</td>\n",
       "      <td>10238</td>\n",
       "      <td>keluarga</td>\n",
       "      <td>0</td>\n",
       "      <td>0</td>\n",
       "      <td>0</td>\n",
       "      <td>tidak</td>\n",
       "    </tr>\n",
       "    <tr>\n",
       "      <th>3</th>\n",
       "      <td>478866</td>\n",
       "      <td>kurang dari 25 tahun</td>\n",
       "      <td>laki-laki</td>\n",
       "      <td>kurang dari 10 tahun</td>\n",
       "      <td>universitas</td>\n",
       "      <td>antara 1-2x UMR</td>\n",
       "      <td>ya</td>\n",
       "      <td>sebelum 2020</td>\n",
       "      <td>belum menikah</td>\n",
       "      <td>ada</td>\n",
       "      <td>32765</td>\n",
       "      <td>keluarga</td>\n",
       "      <td>0</td>\n",
       "      <td>0</td>\n",
       "      <td>0</td>\n",
       "      <td>tidak</td>\n",
       "    </tr>\n",
       "    <tr>\n",
       "      <th>4</th>\n",
       "      <td>731664</td>\n",
       "      <td>antara 25-40 tahun</td>\n",
       "      <td>laki-laki</td>\n",
       "      <td>antara 10-20 tahun</td>\n",
       "      <td>tidak ada</td>\n",
       "      <td>antara 1-2x UMR</td>\n",
       "      <td>ya</td>\n",
       "      <td>sebelum 2020</td>\n",
       "      <td>belum menikah</td>\n",
       "      <td>tidak ada</td>\n",
       "      <td>32765</td>\n",
       "      <td>keluarga</td>\n",
       "      <td>2</td>\n",
       "      <td>0</td>\n",
       "      <td>1</td>\n",
       "      <td>ya</td>\n",
       "    </tr>\n",
       "  </tbody>\n",
       "</table>\n",
       "</div>"
      ],
      "text/plain": [
       "   IDENTITAS                  UMUR JENIS_KELAMIN  PENGALAMAN_MENGEMUDI  \\\n",
       "0     569520   lebih dari 65 tahun     perempuan  kurang dari 10 tahun   \n",
       "1     750365  kurang dari 25 tahun     laki-laki  kurang dari 10 tahun   \n",
       "2     199901  kurang dari 25 tahun     perempuan  kurang dari 10 tahun   \n",
       "3     478866  kurang dari 25 tahun     laki-laki  kurang dari 10 tahun   \n",
       "4     731664    antara 25-40 tahun     laki-laki    antara 10-20 tahun   \n",
       "\n",
       "    PENDIDIKAN        PENGHASILAN PEMILIK_KENDARAAN TAHUN_PRODUKSI  \\\n",
       "0          SMA  lebih dari 3x UMR                ya   setelah 2020   \n",
       "1    tidak ada    kurang dari UMR             tidak   sebelum 2020   \n",
       "2          SMA    antara 1-2x UMR                ya   sebelum 2020   \n",
       "3  universitas    antara 1-2x UMR                ya   sebelum 2020   \n",
       "4    tidak ada    antara 1-2x UMR                ya   sebelum 2020   \n",
       "\n",
       "          STATUS       ANAK  KODE_POS JENIS_KENDARAAN  TILANG_NGEBUT  \\\n",
       "0  belum menikah        ada     10238        keluarga              0   \n",
       "1  belum menikah  tidak ada     10238        keluarga              0   \n",
       "2  belum menikah  tidak ada     10238        keluarga              0   \n",
       "3  belum menikah        ada     32765        keluarga              0   \n",
       "4  belum menikah  tidak ada     32765        keluarga              2   \n",
       "\n",
       "   TILANG_MABUK  KECELAKAAN_SEBELUMNYA  KLAIM  \n",
       "0             0                      0  tidak  \n",
       "1             0                      0     ya  \n",
       "2             0                      0  tidak  \n",
       "3             0                      0  tidak  \n",
       "4             0                      1     ya  "
      ]
     },
     "execution_count": 18,
     "metadata": {},
     "output_type": "execute_result"
    }
   ],
   "source": [
    "data_drop.head()"
   ]
  },
  {
   "cell_type": "code",
   "execution_count": 19,
   "id": "b80e6d6f",
   "metadata": {},
   "outputs": [
    {
     "data": {
      "text/plain": [
       "array(['SMA', 'tidak ada', 'universitas'], dtype=object)"
      ]
     },
     "execution_count": 19,
     "metadata": {},
     "output_type": "execute_result"
    }
   ],
   "source": [
    "data.PENDIDIKAN.unique()"
   ]
  },
  {
   "cell_type": "code",
   "execution_count": 20,
   "id": "f31c9a24",
   "metadata": {},
   "outputs": [
    {
     "data": {
      "text/plain": [
       "array(['lebih dari 3x UMR', 'kurang dari UMR', 'antara 1-2x UMR',\n",
       "       'antara 2-3x UMR'], dtype=object)"
      ]
     },
     "execution_count": 20,
     "metadata": {},
     "output_type": "execute_result"
    }
   ],
   "source": [
    "data.PENGHASILAN.unique()"
   ]
  },
  {
   "cell_type": "code",
   "execution_count": 21,
   "id": "d96d882c",
   "metadata": {},
   "outputs": [
    {
     "data": {
      "text/plain": [
       "array(['setelah 2020', 'sebelum 2020'], dtype=object)"
      ]
     },
     "execution_count": 21,
     "metadata": {},
     "output_type": "execute_result"
    }
   ],
   "source": [
    "data.TAHUN_PRODUKSI.unique()"
   ]
  },
  {
   "cell_type": "code",
   "execution_count": 22,
   "id": "efc2e8f0",
   "metadata": {},
   "outputs": [
    {
     "data": {
      "text/plain": [
       "array(['belum menikah', 'menikah'], dtype=object)"
      ]
     },
     "execution_count": 22,
     "metadata": {},
     "output_type": "execute_result"
    }
   ],
   "source": [
    "data.STATUS.unique()"
   ]
  },
  {
   "cell_type": "code",
   "execution_count": 23,
   "id": "0bd7095e",
   "metadata": {},
   "outputs": [
    {
     "data": {
      "text/plain": [
       "array(['ada', 'tidak ada'], dtype=object)"
      ]
     },
     "execution_count": 23,
     "metadata": {},
     "output_type": "execute_result"
    }
   ],
   "source": [
    "data.ANAK.unique()"
   ]
  },
  {
   "cell_type": "code",
   "execution_count": 24,
   "id": "b82c9b70",
   "metadata": {},
   "outputs": [
    {
     "data": {
      "text/plain": [
       "array([10238, 32765, 92101, 21217], dtype=int64)"
      ]
     },
     "execution_count": 24,
     "metadata": {},
     "output_type": "execute_result"
    }
   ],
   "source": [
    "data.KODE_POS.unique()"
   ]
  },
  {
   "cell_type": "code",
   "execution_count": 25,
   "id": "1fd0e237",
   "metadata": {},
   "outputs": [
    {
     "data": {
      "text/plain": [
       "array(['keluarga', 'sport'], dtype=object)"
      ]
     },
     "execution_count": 25,
     "metadata": {},
     "output_type": "execute_result"
    }
   ],
   "source": [
    "data.JENIS_KENDARAAN.unique()"
   ]
  },
  {
   "cell_type": "code",
   "execution_count": 26,
   "id": "daa212b7",
   "metadata": {},
   "outputs": [
    {
     "data": {
      "text/plain": [
       "array([ 0,  2,  3,  7,  6,  4, 10, 13,  1,  5,  9,  8, 12, 11, 15, 17, 19,\n",
       "       18, 16, 14, 22], dtype=int64)"
      ]
     },
     "execution_count": 26,
     "metadata": {},
     "output_type": "execute_result"
    }
   ],
   "source": [
    "data.TILANG_NGEBUT.unique()"
   ]
  },
  {
   "cell_type": "code",
   "execution_count": 27,
   "id": "242e42ad",
   "metadata": {},
   "outputs": [
    {
     "data": {
      "text/plain": [
       "array([0, 2, 1, 3, 4, 5, 6], dtype=int64)"
      ]
     },
     "execution_count": 27,
     "metadata": {},
     "output_type": "execute_result"
    }
   ],
   "source": [
    "data.TILANG_MABUK.unique()"
   ]
  },
  {
   "cell_type": "code",
   "execution_count": 28,
   "id": "b8ba48bb",
   "metadata": {},
   "outputs": [
    {
     "data": {
      "text/plain": [
       "array([ 0,  1,  3,  7,  2,  5,  4,  6,  8, 10, 11,  9, 12, 14, 15],\n",
       "      dtype=int64)"
      ]
     },
     "execution_count": 28,
     "metadata": {},
     "output_type": "execute_result"
    }
   ],
   "source": [
    "data.KECELAKAAN_SEBELUMNYA.unique()"
   ]
  },
  {
   "cell_type": "code",
   "execution_count": 29,
   "id": "ed3f3c4d",
   "metadata": {},
   "outputs": [],
   "source": [
    "data_drop['JENIS_KELAMIN'] = \\\n",
    "data_drop['JENIS_KELAMIN'].map({'perempuan':0, 'laki-laki':1})"
   ]
  },
  {
   "cell_type": "code",
   "execution_count": 30,
   "id": "4757cc6c",
   "metadata": {},
   "outputs": [],
   "source": [
    "data_drop['PENGALAMAN_MENGEMUDI'] = \\\n",
    "data_drop['PENGALAMAN_MENGEMUDI'].map({'kurang dari 10 tahun':0, 'antara 10-20 tahun':1, 'antara 20-30 tahun':2, 'lebih dari 30 tahun':3})"
   ]
  },
  {
   "cell_type": "code",
   "execution_count": 31,
   "id": "79aa9996",
   "metadata": {},
   "outputs": [],
   "source": [
    "data_drop['PENDIDIKAN'] = \\\n",
    "data_drop['PENDIDIKAN'].map({'SMA':0, 'tidak ada':1, 'universitas':2})"
   ]
  },
  {
   "cell_type": "code",
   "execution_count": 32,
   "id": "e389817d",
   "metadata": {},
   "outputs": [],
   "source": [
    "data_drop['PENGHASILAN'] = \\\n",
    "data_drop['PENGHASILAN'].map({'lebih dari 3x UMR':1, 'kurang dari UMR':2, 'antara 1-2x UMR':3,\n",
    "       'antara 2-3x UMR':4})"
   ]
  },
  {
   "cell_type": "code",
   "execution_count": 33,
   "id": "2f7e7582",
   "metadata": {},
   "outputs": [],
   "source": [
    "data_drop['PEMILIK_KENDARAAN'] = \\\n",
    "data_drop['PEMILIK_KENDARAAN'].map({'ya':1, 'tidak':0})"
   ]
  },
  {
   "cell_type": "code",
   "execution_count": 34,
   "id": "a0c65a71",
   "metadata": {},
   "outputs": [],
   "source": [
    "data_drop['TAHUN_PRODUKSI'] = \\\n",
    "data_drop['TAHUN_PRODUKSI'].map({'setelah 2020':0, 'sebelum 2020':1})"
   ]
  },
  {
   "cell_type": "code",
   "execution_count": 35,
   "id": "8448707b",
   "metadata": {},
   "outputs": [],
   "source": [
    "data_drop['STATUS'] = \\\n",
    "data_drop['STATUS'].map({'belum menikah':0, 'menikah':1})"
   ]
  },
  {
   "cell_type": "code",
   "execution_count": 36,
   "id": "21fc14fc",
   "metadata": {},
   "outputs": [],
   "source": [
    "data_drop['ANAK'] = \\\n",
    "data_drop['ANAK'].map({'ada':0, 'tidak ada':1})"
   ]
  },
  {
   "cell_type": "code",
   "execution_count": 37,
   "id": "a19a3f81",
   "metadata": {},
   "outputs": [],
   "source": [
    "data_drop['JENIS_KENDARAAN'] = \\\n",
    "data_drop['JENIS_KENDARAAN'].map({'keluarga':0, 'sport':1})"
   ]
  },
  {
   "cell_type": "code",
   "execution_count": 38,
   "id": "3766c776",
   "metadata": {},
   "outputs": [
    {
     "data": {
      "text/plain": [
       "array(['lebih dari 65 tahun', 'kurang dari 25 tahun',\n",
       "       'antara 25-40 tahun', 'antara 40-65 tahun'], dtype=object)"
      ]
     },
     "execution_count": 38,
     "metadata": {},
     "output_type": "execute_result"
    }
   ],
   "source": [
    "data.UMUR.unique()"
   ]
  },
  {
   "cell_type": "code",
   "execution_count": 39,
   "id": "e5599dc1",
   "metadata": {},
   "outputs": [],
   "source": [
    "data_drop['UMUR'] = \\\n",
    "data_drop['UMUR'].map({'kurang dari 25 tahun':0, 'antara 25-40 tahun':1,'antara 40-65 tahun':2, 'lebih dari 65 tahun':3})"
   ]
  },
  {
   "cell_type": "code",
   "execution_count": 40,
   "id": "38abcf1b",
   "metadata": {},
   "outputs": [],
   "source": [
    "data_drop['KLAIM'] = \\\n",
    "data_drop['KLAIM'].map({'ya':0, 'tidak':1})"
   ]
  },
  {
   "cell_type": "code",
   "execution_count": 41,
   "id": "a171f7fd",
   "metadata": {},
   "outputs": [
    {
     "data": {
      "text/html": [
       "<div>\n",
       "<style scoped>\n",
       "    .dataframe tbody tr th:only-of-type {\n",
       "        vertical-align: middle;\n",
       "    }\n",
       "\n",
       "    .dataframe tbody tr th {\n",
       "        vertical-align: top;\n",
       "    }\n",
       "\n",
       "    .dataframe thead th {\n",
       "        text-align: right;\n",
       "    }\n",
       "</style>\n",
       "<table border=\"1\" class=\"dataframe\">\n",
       "  <thead>\n",
       "    <tr style=\"text-align: right;\">\n",
       "      <th></th>\n",
       "      <th>IDENTITAS</th>\n",
       "      <th>UMUR</th>\n",
       "      <th>JENIS_KELAMIN</th>\n",
       "      <th>PENGALAMAN_MENGEMUDI</th>\n",
       "      <th>PENDIDIKAN</th>\n",
       "      <th>PENGHASILAN</th>\n",
       "      <th>PEMILIK_KENDARAAN</th>\n",
       "      <th>TAHUN_PRODUKSI</th>\n",
       "      <th>STATUS</th>\n",
       "      <th>ANAK</th>\n",
       "      <th>KODE_POS</th>\n",
       "      <th>JENIS_KENDARAAN</th>\n",
       "      <th>TILANG_NGEBUT</th>\n",
       "      <th>TILANG_MABUK</th>\n",
       "      <th>KECELAKAAN_SEBELUMNYA</th>\n",
       "      <th>KLAIM</th>\n",
       "    </tr>\n",
       "  </thead>\n",
       "  <tbody>\n",
       "    <tr>\n",
       "      <th>0</th>\n",
       "      <td>569520</td>\n",
       "      <td>3</td>\n",
       "      <td>0</td>\n",
       "      <td>0</td>\n",
       "      <td>0</td>\n",
       "      <td>1</td>\n",
       "      <td>1</td>\n",
       "      <td>0</td>\n",
       "      <td>0</td>\n",
       "      <td>0</td>\n",
       "      <td>10238</td>\n",
       "      <td>0</td>\n",
       "      <td>0</td>\n",
       "      <td>0</td>\n",
       "      <td>0</td>\n",
       "      <td>1</td>\n",
       "    </tr>\n",
       "    <tr>\n",
       "      <th>1</th>\n",
       "      <td>750365</td>\n",
       "      <td>0</td>\n",
       "      <td>1</td>\n",
       "      <td>0</td>\n",
       "      <td>1</td>\n",
       "      <td>2</td>\n",
       "      <td>0</td>\n",
       "      <td>1</td>\n",
       "      <td>0</td>\n",
       "      <td>1</td>\n",
       "      <td>10238</td>\n",
       "      <td>0</td>\n",
       "      <td>0</td>\n",
       "      <td>0</td>\n",
       "      <td>0</td>\n",
       "      <td>0</td>\n",
       "    </tr>\n",
       "    <tr>\n",
       "      <th>2</th>\n",
       "      <td>199901</td>\n",
       "      <td>0</td>\n",
       "      <td>0</td>\n",
       "      <td>0</td>\n",
       "      <td>0</td>\n",
       "      <td>3</td>\n",
       "      <td>1</td>\n",
       "      <td>1</td>\n",
       "      <td>0</td>\n",
       "      <td>1</td>\n",
       "      <td>10238</td>\n",
       "      <td>0</td>\n",
       "      <td>0</td>\n",
       "      <td>0</td>\n",
       "      <td>0</td>\n",
       "      <td>1</td>\n",
       "    </tr>\n",
       "    <tr>\n",
       "      <th>3</th>\n",
       "      <td>478866</td>\n",
       "      <td>0</td>\n",
       "      <td>1</td>\n",
       "      <td>0</td>\n",
       "      <td>2</td>\n",
       "      <td>3</td>\n",
       "      <td>1</td>\n",
       "      <td>1</td>\n",
       "      <td>0</td>\n",
       "      <td>0</td>\n",
       "      <td>32765</td>\n",
       "      <td>0</td>\n",
       "      <td>0</td>\n",
       "      <td>0</td>\n",
       "      <td>0</td>\n",
       "      <td>1</td>\n",
       "    </tr>\n",
       "    <tr>\n",
       "      <th>4</th>\n",
       "      <td>731664</td>\n",
       "      <td>1</td>\n",
       "      <td>1</td>\n",
       "      <td>1</td>\n",
       "      <td>1</td>\n",
       "      <td>3</td>\n",
       "      <td>1</td>\n",
       "      <td>1</td>\n",
       "      <td>0</td>\n",
       "      <td>1</td>\n",
       "      <td>32765</td>\n",
       "      <td>0</td>\n",
       "      <td>2</td>\n",
       "      <td>0</td>\n",
       "      <td>1</td>\n",
       "      <td>0</td>\n",
       "    </tr>\n",
       "  </tbody>\n",
       "</table>\n",
       "</div>"
      ],
      "text/plain": [
       "   IDENTITAS  UMUR  JENIS_KELAMIN  PENGALAMAN_MENGEMUDI  PENDIDIKAN  \\\n",
       "0     569520     3              0                     0           0   \n",
       "1     750365     0              1                     0           1   \n",
       "2     199901     0              0                     0           0   \n",
       "3     478866     0              1                     0           2   \n",
       "4     731664     1              1                     1           1   \n",
       "\n",
       "   PENGHASILAN  PEMILIK_KENDARAAN  TAHUN_PRODUKSI  STATUS  ANAK  KODE_POS  \\\n",
       "0            1                  1               0       0     0     10238   \n",
       "1            2                  0               1       0     1     10238   \n",
       "2            3                  1               1       0     1     10238   \n",
       "3            3                  1               1       0     0     32765   \n",
       "4            3                  1               1       0     1     32765   \n",
       "\n",
       "   JENIS_KENDARAAN  TILANG_NGEBUT  TILANG_MABUK  KECELAKAAN_SEBELUMNYA  KLAIM  \n",
       "0                0              0             0                      0      1  \n",
       "1                0              0             0                      0      0  \n",
       "2                0              0             0                      0      1  \n",
       "3                0              0             0                      0      1  \n",
       "4                0              2             0                      1      0  "
      ]
     },
     "execution_count": 41,
     "metadata": {},
     "output_type": "execute_result"
    }
   ],
   "source": [
    "data_drop.head()"
   ]
  },
  {
   "cell_type": "code",
   "execution_count": 42,
   "id": "def66a0e",
   "metadata": {},
   "outputs": [
    {
     "data": {
      "text/plain": [
       "Index(['IDENTITAS', 'UMUR', 'JENIS_KELAMIN', 'PENGALAMAN_MENGEMUDI',\n",
       "       'PENDIDIKAN', 'PENGHASILAN', 'SKOR_KREDIT', 'PEMILIK_KENDARAAN',\n",
       "       'TAHUN_PRODUKSI', 'STATUS', 'ANAK', 'KODE_POS', 'KM_PER_TAHUN',\n",
       "       'JENIS_KENDARAAN', 'TILANG_NGEBUT', 'TILANG_MABUK',\n",
       "       'KECELAKAAN_SEBELUMNYA', 'KLAIM'],\n",
       "      dtype='object')"
      ]
     },
     "execution_count": 42,
     "metadata": {},
     "output_type": "execute_result"
    }
   ],
   "source": [
    "data.columns"
   ]
  },
  {
   "cell_type": "code",
   "execution_count": 43,
   "id": "a4b9e2fe",
   "metadata": {},
   "outputs": [
    {
     "data": {
      "text/plain": [
       "IDENTITAS                  int64\n",
       "UMUR                      object\n",
       "JENIS_KELAMIN             object\n",
       "PENGALAMAN_MENGEMUDI      object\n",
       "PENDIDIKAN                object\n",
       "PENGHASILAN               object\n",
       "SKOR_KREDIT              float64\n",
       "PEMILIK_KENDARAAN         object\n",
       "TAHUN_PRODUKSI            object\n",
       "STATUS                    object\n",
       "ANAK                      object\n",
       "KODE_POS                   int64\n",
       "KM_PER_TAHUN             float64\n",
       "JENIS_KENDARAAN           object\n",
       "TILANG_NGEBUT              int64\n",
       "TILANG_MABUK               int64\n",
       "KECELAKAAN_SEBELUMNYA      int64\n",
       "KLAIM                     object\n",
       "dtype: object"
      ]
     },
     "execution_count": 43,
     "metadata": {},
     "output_type": "execute_result"
    }
   ],
   "source": [
    "data.dtypes"
   ]
  },
  {
   "cell_type": "code",
   "execution_count": 44,
   "id": "505a08c4",
   "metadata": {},
   "outputs": [
    {
     "data": {
      "text/html": [
       "<div>\n",
       "<style scoped>\n",
       "    .dataframe tbody tr th:only-of-type {\n",
       "        vertical-align: middle;\n",
       "    }\n",
       "\n",
       "    .dataframe tbody tr th {\n",
       "        vertical-align: top;\n",
       "    }\n",
       "\n",
       "    .dataframe thead th {\n",
       "        text-align: right;\n",
       "    }\n",
       "</style>\n",
       "<table border=\"1\" class=\"dataframe\">\n",
       "  <thead>\n",
       "    <tr style=\"text-align: right;\">\n",
       "      <th></th>\n",
       "      <th>IDENTITAS</th>\n",
       "      <th>SKOR_KREDIT</th>\n",
       "      <th>KODE_POS</th>\n",
       "      <th>KM_PER_TAHUN</th>\n",
       "      <th>TILANG_NGEBUT</th>\n",
       "      <th>TILANG_MABUK</th>\n",
       "      <th>KECELAKAAN_SEBELUMNYA</th>\n",
       "    </tr>\n",
       "  </thead>\n",
       "  <tbody>\n",
       "    <tr>\n",
       "      <th>count</th>\n",
       "      <td>10000.000000</td>\n",
       "      <td>9018.000000</td>\n",
       "      <td>10000.000000</td>\n",
       "      <td>9043.000000</td>\n",
       "      <td>10000.000000</td>\n",
       "      <td>10000.00000</td>\n",
       "      <td>10000.000000</td>\n",
       "    </tr>\n",
       "    <tr>\n",
       "      <th>mean</th>\n",
       "      <td>500521.906800</td>\n",
       "      <td>0.515813</td>\n",
       "      <td>19864.548400</td>\n",
       "      <td>11697.003207</td>\n",
       "      <td>1.482900</td>\n",
       "      <td>0.23920</td>\n",
       "      <td>1.056300</td>\n",
       "    </tr>\n",
       "    <tr>\n",
       "      <th>std</th>\n",
       "      <td>290030.768758</td>\n",
       "      <td>0.137688</td>\n",
       "      <td>18915.613855</td>\n",
       "      <td>2818.434528</td>\n",
       "      <td>2.241966</td>\n",
       "      <td>0.55499</td>\n",
       "      <td>1.652454</td>\n",
       "    </tr>\n",
       "    <tr>\n",
       "      <th>min</th>\n",
       "      <td>101.000000</td>\n",
       "      <td>0.053358</td>\n",
       "      <td>10238.000000</td>\n",
       "      <td>2000.000000</td>\n",
       "      <td>0.000000</td>\n",
       "      <td>0.00000</td>\n",
       "      <td>0.000000</td>\n",
       "    </tr>\n",
       "    <tr>\n",
       "      <th>25%</th>\n",
       "      <td>249638.500000</td>\n",
       "      <td>0.417191</td>\n",
       "      <td>10238.000000</td>\n",
       "      <td>10000.000000</td>\n",
       "      <td>0.000000</td>\n",
       "      <td>0.00000</td>\n",
       "      <td>0.000000</td>\n",
       "    </tr>\n",
       "    <tr>\n",
       "      <th>50%</th>\n",
       "      <td>501777.000000</td>\n",
       "      <td>0.525033</td>\n",
       "      <td>10238.000000</td>\n",
       "      <td>12000.000000</td>\n",
       "      <td>0.000000</td>\n",
       "      <td>0.00000</td>\n",
       "      <td>0.000000</td>\n",
       "    </tr>\n",
       "    <tr>\n",
       "      <th>75%</th>\n",
       "      <td>753974.500000</td>\n",
       "      <td>0.618312</td>\n",
       "      <td>32765.000000</td>\n",
       "      <td>14000.000000</td>\n",
       "      <td>2.000000</td>\n",
       "      <td>0.00000</td>\n",
       "      <td>2.000000</td>\n",
       "    </tr>\n",
       "    <tr>\n",
       "      <th>max</th>\n",
       "      <td>999976.000000</td>\n",
       "      <td>0.960819</td>\n",
       "      <td>92101.000000</td>\n",
       "      <td>22000.000000</td>\n",
       "      <td>22.000000</td>\n",
       "      <td>6.00000</td>\n",
       "      <td>15.000000</td>\n",
       "    </tr>\n",
       "  </tbody>\n",
       "</table>\n",
       "</div>"
      ],
      "text/plain": [
       "           IDENTITAS  SKOR_KREDIT      KODE_POS  KM_PER_TAHUN  TILANG_NGEBUT  \\\n",
       "count   10000.000000  9018.000000  10000.000000   9043.000000   10000.000000   \n",
       "mean   500521.906800     0.515813  19864.548400  11697.003207       1.482900   \n",
       "std    290030.768758     0.137688  18915.613855   2818.434528       2.241966   \n",
       "min       101.000000     0.053358  10238.000000   2000.000000       0.000000   \n",
       "25%    249638.500000     0.417191  10238.000000  10000.000000       0.000000   \n",
       "50%    501777.000000     0.525033  10238.000000  12000.000000       0.000000   \n",
       "75%    753974.500000     0.618312  32765.000000  14000.000000       2.000000   \n",
       "max    999976.000000     0.960819  92101.000000  22000.000000      22.000000   \n",
       "\n",
       "       TILANG_MABUK  KECELAKAAN_SEBELUMNYA  \n",
       "count   10000.00000           10000.000000  \n",
       "mean        0.23920               1.056300  \n",
       "std         0.55499               1.652454  \n",
       "min         0.00000               0.000000  \n",
       "25%         0.00000               0.000000  \n",
       "50%         0.00000               0.000000  \n",
       "75%         0.00000               2.000000  \n",
       "max         6.00000              15.000000  "
      ]
     },
     "execution_count": 44,
     "metadata": {},
     "output_type": "execute_result"
    }
   ],
   "source": [
    "data.describe()"
   ]
  },
  {
   "cell_type": "code",
   "execution_count": 45,
   "id": "970e8400",
   "metadata": {},
   "outputs": [
    {
     "data": {
      "text/html": [
       "<div>\n",
       "<style scoped>\n",
       "    .dataframe tbody tr th:only-of-type {\n",
       "        vertical-align: middle;\n",
       "    }\n",
       "\n",
       "    .dataframe tbody tr th {\n",
       "        vertical-align: top;\n",
       "    }\n",
       "\n",
       "    .dataframe thead th {\n",
       "        text-align: right;\n",
       "    }\n",
       "</style>\n",
       "<table border=\"1\" class=\"dataframe\">\n",
       "  <thead>\n",
       "    <tr style=\"text-align: right;\">\n",
       "      <th></th>\n",
       "      <th>IDENTITAS</th>\n",
       "      <th>UMUR</th>\n",
       "      <th>JENIS_KELAMIN</th>\n",
       "      <th>PENGALAMAN_MENGEMUDI</th>\n",
       "      <th>PENDIDIKAN</th>\n",
       "      <th>PENGHASILAN</th>\n",
       "      <th>PEMILIK_KENDARAAN</th>\n",
       "      <th>TAHUN_PRODUKSI</th>\n",
       "      <th>STATUS</th>\n",
       "      <th>ANAK</th>\n",
       "      <th>KODE_POS</th>\n",
       "      <th>JENIS_KENDARAAN</th>\n",
       "      <th>TILANG_NGEBUT</th>\n",
       "      <th>TILANG_MABUK</th>\n",
       "      <th>KECELAKAAN_SEBELUMNYA</th>\n",
       "      <th>KLAIM</th>\n",
       "    </tr>\n",
       "  </thead>\n",
       "  <tbody>\n",
       "    <tr>\n",
       "      <th>0</th>\n",
       "      <td>0.569490</td>\n",
       "      <td>1.000000</td>\n",
       "      <td>0.0</td>\n",
       "      <td>0.000000</td>\n",
       "      <td>0.0</td>\n",
       "      <td>0.000000</td>\n",
       "      <td>1.0</td>\n",
       "      <td>0.0</td>\n",
       "      <td>0.0</td>\n",
       "      <td>0.0</td>\n",
       "      <td>0.000000</td>\n",
       "      <td>0.0</td>\n",
       "      <td>0.000000</td>\n",
       "      <td>0.0</td>\n",
       "      <td>0.000000</td>\n",
       "      <td>1.0</td>\n",
       "    </tr>\n",
       "    <tr>\n",
       "      <th>1</th>\n",
       "      <td>0.750358</td>\n",
       "      <td>0.000000</td>\n",
       "      <td>1.0</td>\n",
       "      <td>0.000000</td>\n",
       "      <td>0.5</td>\n",
       "      <td>0.333333</td>\n",
       "      <td>0.0</td>\n",
       "      <td>1.0</td>\n",
       "      <td>0.0</td>\n",
       "      <td>1.0</td>\n",
       "      <td>0.000000</td>\n",
       "      <td>0.0</td>\n",
       "      <td>0.000000</td>\n",
       "      <td>0.0</td>\n",
       "      <td>0.000000</td>\n",
       "      <td>0.0</td>\n",
       "    </tr>\n",
       "    <tr>\n",
       "      <th>2</th>\n",
       "      <td>0.199825</td>\n",
       "      <td>0.000000</td>\n",
       "      <td>0.0</td>\n",
       "      <td>0.000000</td>\n",
       "      <td>0.0</td>\n",
       "      <td>0.666667</td>\n",
       "      <td>1.0</td>\n",
       "      <td>1.0</td>\n",
       "      <td>0.0</td>\n",
       "      <td>1.0</td>\n",
       "      <td>0.000000</td>\n",
       "      <td>0.0</td>\n",
       "      <td>0.000000</td>\n",
       "      <td>0.0</td>\n",
       "      <td>0.000000</td>\n",
       "      <td>1.0</td>\n",
       "    </tr>\n",
       "    <tr>\n",
       "      <th>3</th>\n",
       "      <td>0.478825</td>\n",
       "      <td>0.000000</td>\n",
       "      <td>1.0</td>\n",
       "      <td>0.000000</td>\n",
       "      <td>1.0</td>\n",
       "      <td>0.666667</td>\n",
       "      <td>1.0</td>\n",
       "      <td>1.0</td>\n",
       "      <td>0.0</td>\n",
       "      <td>0.0</td>\n",
       "      <td>0.275179</td>\n",
       "      <td>0.0</td>\n",
       "      <td>0.000000</td>\n",
       "      <td>0.0</td>\n",
       "      <td>0.000000</td>\n",
       "      <td>1.0</td>\n",
       "    </tr>\n",
       "    <tr>\n",
       "      <th>4</th>\n",
       "      <td>0.731654</td>\n",
       "      <td>0.333333</td>\n",
       "      <td>1.0</td>\n",
       "      <td>0.333333</td>\n",
       "      <td>0.5</td>\n",
       "      <td>0.666667</td>\n",
       "      <td>1.0</td>\n",
       "      <td>1.0</td>\n",
       "      <td>0.0</td>\n",
       "      <td>1.0</td>\n",
       "      <td>0.275179</td>\n",
       "      <td>0.0</td>\n",
       "      <td>0.090909</td>\n",
       "      <td>0.0</td>\n",
       "      <td>0.066667</td>\n",
       "      <td>0.0</td>\n",
       "    </tr>\n",
       "    <tr>\n",
       "      <th>5</th>\n",
       "      <td>0.877566</td>\n",
       "      <td>0.666667</td>\n",
       "      <td>0.0</td>\n",
       "      <td>0.666667</td>\n",
       "      <td>0.0</td>\n",
       "      <td>0.000000</td>\n",
       "      <td>1.0</td>\n",
       "      <td>0.0</td>\n",
       "      <td>0.0</td>\n",
       "      <td>0.0</td>\n",
       "      <td>0.000000</td>\n",
       "      <td>0.0</td>\n",
       "      <td>0.136364</td>\n",
       "      <td>0.0</td>\n",
       "      <td>0.200000</td>\n",
       "      <td>1.0</td>\n",
       "    </tr>\n",
       "    <tr>\n",
       "      <th>6</th>\n",
       "      <td>0.930149</td>\n",
       "      <td>1.000000</td>\n",
       "      <td>1.0</td>\n",
       "      <td>1.000000</td>\n",
       "      <td>0.0</td>\n",
       "      <td>0.000000</td>\n",
       "      <td>0.0</td>\n",
       "      <td>0.0</td>\n",
       "      <td>1.0</td>\n",
       "      <td>0.0</td>\n",
       "      <td>0.000000</td>\n",
       "      <td>0.0</td>\n",
       "      <td>0.318182</td>\n",
       "      <td>0.0</td>\n",
       "      <td>0.200000</td>\n",
       "      <td>1.0</td>\n",
       "    </tr>\n",
       "    <tr>\n",
       "      <th>7</th>\n",
       "      <td>0.460963</td>\n",
       "      <td>0.333333</td>\n",
       "      <td>0.0</td>\n",
       "      <td>0.000000</td>\n",
       "      <td>1.0</td>\n",
       "      <td>0.666667</td>\n",
       "      <td>0.0</td>\n",
       "      <td>0.0</td>\n",
       "      <td>0.0</td>\n",
       "      <td>0.0</td>\n",
       "      <td>0.000000</td>\n",
       "      <td>0.0</td>\n",
       "      <td>0.000000</td>\n",
       "      <td>0.0</td>\n",
       "      <td>0.000000</td>\n",
       "      <td>0.0</td>\n",
       "    </tr>\n",
       "    <tr>\n",
       "      <th>8</th>\n",
       "      <td>0.068274</td>\n",
       "      <td>0.666667</td>\n",
       "      <td>0.0</td>\n",
       "      <td>0.666667</td>\n",
       "      <td>1.0</td>\n",
       "      <td>0.666667</td>\n",
       "      <td>0.0</td>\n",
       "      <td>1.0</td>\n",
       "      <td>1.0</td>\n",
       "      <td>1.0</td>\n",
       "      <td>0.000000</td>\n",
       "      <td>0.0</td>\n",
       "      <td>0.000000</td>\n",
       "      <td>0.0</td>\n",
       "      <td>0.000000</td>\n",
       "      <td>1.0</td>\n",
       "    </tr>\n",
       "    <tr>\n",
       "      <th>9</th>\n",
       "      <td>0.445866</td>\n",
       "      <td>0.666667</td>\n",
       "      <td>0.0</td>\n",
       "      <td>0.000000</td>\n",
       "      <td>0.0</td>\n",
       "      <td>0.000000</td>\n",
       "      <td>1.0</td>\n",
       "      <td>1.0</td>\n",
       "      <td>0.0</td>\n",
       "      <td>0.0</td>\n",
       "      <td>0.275179</td>\n",
       "      <td>0.0</td>\n",
       "      <td>0.000000</td>\n",
       "      <td>0.0</td>\n",
       "      <td>0.000000</td>\n",
       "      <td>0.0</td>\n",
       "    </tr>\n",
       "  </tbody>\n",
       "</table>\n",
       "</div>"
      ],
      "text/plain": [
       "   IDENTITAS      UMUR  JENIS_KELAMIN  PENGALAMAN_MENGEMUDI  PENDIDIKAN  \\\n",
       "0   0.569490  1.000000            0.0              0.000000         0.0   \n",
       "1   0.750358  0.000000            1.0              0.000000         0.5   \n",
       "2   0.199825  0.000000            0.0              0.000000         0.0   \n",
       "3   0.478825  0.000000            1.0              0.000000         1.0   \n",
       "4   0.731654  0.333333            1.0              0.333333         0.5   \n",
       "5   0.877566  0.666667            0.0              0.666667         0.0   \n",
       "6   0.930149  1.000000            1.0              1.000000         0.0   \n",
       "7   0.460963  0.333333            0.0              0.000000         1.0   \n",
       "8   0.068274  0.666667            0.0              0.666667         1.0   \n",
       "9   0.445866  0.666667            0.0              0.000000         0.0   \n",
       "\n",
       "   PENGHASILAN  PEMILIK_KENDARAAN  TAHUN_PRODUKSI  STATUS  ANAK  KODE_POS  \\\n",
       "0     0.000000                1.0             0.0     0.0   0.0  0.000000   \n",
       "1     0.333333                0.0             1.0     0.0   1.0  0.000000   \n",
       "2     0.666667                1.0             1.0     0.0   1.0  0.000000   \n",
       "3     0.666667                1.0             1.0     0.0   0.0  0.275179   \n",
       "4     0.666667                1.0             1.0     0.0   1.0  0.275179   \n",
       "5     0.000000                1.0             0.0     0.0   0.0  0.000000   \n",
       "6     0.000000                0.0             0.0     1.0   0.0  0.000000   \n",
       "7     0.666667                0.0             0.0     0.0   0.0  0.000000   \n",
       "8     0.666667                0.0             1.0     1.0   1.0  0.000000   \n",
       "9     0.000000                1.0             1.0     0.0   0.0  0.275179   \n",
       "\n",
       "   JENIS_KENDARAAN  TILANG_NGEBUT  TILANG_MABUK  KECELAKAAN_SEBELUMNYA  KLAIM  \n",
       "0              0.0       0.000000           0.0               0.000000    1.0  \n",
       "1              0.0       0.000000           0.0               0.000000    0.0  \n",
       "2              0.0       0.000000           0.0               0.000000    1.0  \n",
       "3              0.0       0.000000           0.0               0.000000    1.0  \n",
       "4              0.0       0.090909           0.0               0.066667    0.0  \n",
       "5              0.0       0.136364           0.0               0.200000    1.0  \n",
       "6              0.0       0.318182           0.0               0.200000    1.0  \n",
       "7              0.0       0.000000           0.0               0.000000    0.0  \n",
       "8              0.0       0.000000           0.0               0.000000    1.0  \n",
       "9              0.0       0.000000           0.0               0.000000    0.0  "
      ]
     },
     "execution_count": 45,
     "metadata": {},
     "output_type": "execute_result"
    }
   ],
   "source": [
    "from sklearn import preprocessing \n",
    "\n",
    "scaler = preprocessing.MinMaxScaler()\n",
    "d = scaler.fit_transform(data_drop)\n",
    "data_normalisasi = pd.DataFrame(d, columns=data_drop.columns)\n",
    "data_normalisasi.head(10)"
   ]
  },
  {
   "cell_type": "code",
   "execution_count": 46,
   "id": "497fa224",
   "metadata": {},
   "outputs": [
    {
     "data": {
      "text/plain": [
       "IDENTITAS                0\n",
       "UMUR                     0\n",
       "JENIS_KELAMIN            0\n",
       "PENGALAMAN_MENGEMUDI     0\n",
       "PENDIDIKAN               0\n",
       "PENGHASILAN              0\n",
       "PEMILIK_KENDARAAN        0\n",
       "TAHUN_PRODUKSI           0\n",
       "STATUS                   0\n",
       "ANAK                     0\n",
       "KODE_POS                 0\n",
       "JENIS_KENDARAAN          0\n",
       "TILANG_NGEBUT            0\n",
       "TILANG_MABUK             0\n",
       "KECELAKAAN_SEBELUMNYA    0\n",
       "KLAIM                    0\n",
       "dtype: int64"
      ]
     },
     "execution_count": 46,
     "metadata": {},
     "output_type": "execute_result"
    }
   ],
   "source": [
    "data_normalisasi.isnull().sum()"
   ]
  },
  {
   "cell_type": "code",
   "execution_count": 47,
   "id": "9103133e",
   "metadata": {},
   "outputs": [],
   "source": [
    "X = data_normalisasi.drop(['KLAIM'], axis =1) \n",
    "y = data_normalisasi['KLAIM']"
   ]
  },
  {
   "cell_type": "code",
   "execution_count": 48,
   "id": "a874a61c",
   "metadata": {},
   "outputs": [],
   "source": [
    "from sklearn.model_selection import train_test_split"
   ]
  },
  {
   "cell_type": "code",
   "execution_count": 49,
   "id": "2be57d9b",
   "metadata": {},
   "outputs": [],
   "source": [
    "X_train, X_test, y_train, y_test = train_test_split(X,y,test_size=0.2)"
   ]
  },
  {
   "cell_type": "code",
   "execution_count": 50,
   "id": "c8640013",
   "metadata": {},
   "outputs": [],
   "source": [
    "from sklearn.svm import SVC\n",
    "model_svm = SVC()"
   ]
  },
  {
   "cell_type": "code",
   "execution_count": 51,
   "id": "c6cdfda3",
   "metadata": {},
   "outputs": [
    {
     "data": {
      "text/html": [
       "<style>#sk-container-id-1 {color: black;background-color: white;}#sk-container-id-1 pre{padding: 0;}#sk-container-id-1 div.sk-toggleable {background-color: white;}#sk-container-id-1 label.sk-toggleable__label {cursor: pointer;display: block;width: 100%;margin-bottom: 0;padding: 0.3em;box-sizing: border-box;text-align: center;}#sk-container-id-1 label.sk-toggleable__label-arrow:before {content: \"▸\";float: left;margin-right: 0.25em;color: #696969;}#sk-container-id-1 label.sk-toggleable__label-arrow:hover:before {color: black;}#sk-container-id-1 div.sk-estimator:hover label.sk-toggleable__label-arrow:before {color: black;}#sk-container-id-1 div.sk-toggleable__content {max-height: 0;max-width: 0;overflow: hidden;text-align: left;background-color: #f0f8ff;}#sk-container-id-1 div.sk-toggleable__content pre {margin: 0.2em;color: black;border-radius: 0.25em;background-color: #f0f8ff;}#sk-container-id-1 input.sk-toggleable__control:checked~div.sk-toggleable__content {max-height: 200px;max-width: 100%;overflow: auto;}#sk-container-id-1 input.sk-toggleable__control:checked~label.sk-toggleable__label-arrow:before {content: \"▾\";}#sk-container-id-1 div.sk-estimator input.sk-toggleable__control:checked~label.sk-toggleable__label {background-color: #d4ebff;}#sk-container-id-1 div.sk-label input.sk-toggleable__control:checked~label.sk-toggleable__label {background-color: #d4ebff;}#sk-container-id-1 input.sk-hidden--visually {border: 0;clip: rect(1px 1px 1px 1px);clip: rect(1px, 1px, 1px, 1px);height: 1px;margin: -1px;overflow: hidden;padding: 0;position: absolute;width: 1px;}#sk-container-id-1 div.sk-estimator {font-family: monospace;background-color: #f0f8ff;border: 1px dotted black;border-radius: 0.25em;box-sizing: border-box;margin-bottom: 0.5em;}#sk-container-id-1 div.sk-estimator:hover {background-color: #d4ebff;}#sk-container-id-1 div.sk-parallel-item::after {content: \"\";width: 100%;border-bottom: 1px solid gray;flex-grow: 1;}#sk-container-id-1 div.sk-label:hover label.sk-toggleable__label {background-color: #d4ebff;}#sk-container-id-1 div.sk-serial::before {content: \"\";position: absolute;border-left: 1px solid gray;box-sizing: border-box;top: 0;bottom: 0;left: 50%;z-index: 0;}#sk-container-id-1 div.sk-serial {display: flex;flex-direction: column;align-items: center;background-color: white;padding-right: 0.2em;padding-left: 0.2em;position: relative;}#sk-container-id-1 div.sk-item {position: relative;z-index: 1;}#sk-container-id-1 div.sk-parallel {display: flex;align-items: stretch;justify-content: center;background-color: white;position: relative;}#sk-container-id-1 div.sk-item::before, #sk-container-id-1 div.sk-parallel-item::before {content: \"\";position: absolute;border-left: 1px solid gray;box-sizing: border-box;top: 0;bottom: 0;left: 50%;z-index: -1;}#sk-container-id-1 div.sk-parallel-item {display: flex;flex-direction: column;z-index: 1;position: relative;background-color: white;}#sk-container-id-1 div.sk-parallel-item:first-child::after {align-self: flex-end;width: 50%;}#sk-container-id-1 div.sk-parallel-item:last-child::after {align-self: flex-start;width: 50%;}#sk-container-id-1 div.sk-parallel-item:only-child::after {width: 0;}#sk-container-id-1 div.sk-dashed-wrapped {border: 1px dashed gray;margin: 0 0.4em 0.5em 0.4em;box-sizing: border-box;padding-bottom: 0.4em;background-color: white;}#sk-container-id-1 div.sk-label label {font-family: monospace;font-weight: bold;display: inline-block;line-height: 1.2em;}#sk-container-id-1 div.sk-label-container {text-align: center;}#sk-container-id-1 div.sk-container {/* jupyter's `normalize.less` sets `[hidden] { display: none; }` but bootstrap.min.css set `[hidden] { display: none !important; }` so we also need the `!important` here to be able to override the default hidden behavior on the sphinx rendered scikit-learn.org. See: https://github.com/scikit-learn/scikit-learn/issues/21755 */display: inline-block !important;position: relative;}#sk-container-id-1 div.sk-text-repr-fallback {display: none;}</style><div id=\"sk-container-id-1\" class=\"sk-top-container\"><div class=\"sk-text-repr-fallback\"><pre>SVC()</pre><b>In a Jupyter environment, please rerun this cell to show the HTML representation or trust the notebook. <br />On GitHub, the HTML representation is unable to render, please try loading this page with nbviewer.org.</b></div><div class=\"sk-container\" hidden><div class=\"sk-item\"><div class=\"sk-estimator sk-toggleable\"><input class=\"sk-toggleable__control sk-hidden--visually\" id=\"sk-estimator-id-1\" type=\"checkbox\" checked><label for=\"sk-estimator-id-1\" class=\"sk-toggleable__label sk-toggleable__label-arrow\">SVC</label><div class=\"sk-toggleable__content\"><pre>SVC()</pre></div></div></div></div></div>"
      ],
      "text/plain": [
       "SVC()"
      ]
     },
     "execution_count": 51,
     "metadata": {},
     "output_type": "execute_result"
    }
   ],
   "source": [
    "model_svm.fit(X_train,y_train)"
   ]
  },
  {
   "cell_type": "code",
   "execution_count": 52,
   "id": "19be8f53",
   "metadata": {},
   "outputs": [
    {
     "data": {
      "text/plain": [
       "0.838"
      ]
     },
     "execution_count": 52,
     "metadata": {},
     "output_type": "execute_result"
    }
   ],
   "source": [
    "model_svm.score(X_test,y_test)"
   ]
  },
  {
   "cell_type": "code",
   "execution_count": 53,
   "id": "3da124bb",
   "metadata": {},
   "outputs": [],
   "source": [
    "from sklearn.model_selection import KFold\n",
    "from sklearn.model_selection import cross_val_score\n",
    "k_fold = KFold(n_splits=5, shuffle=True, random_state=0)"
   ]
  },
  {
   "cell_type": "code",
   "execution_count": 54,
   "id": "88e1a210",
   "metadata": {},
   "outputs": [
    {
     "name": "stdout",
     "output_type": "stream",
     "text": [
      "[0.831  0.8355 0.8605 0.8545 0.8275]\n"
     ]
    }
   ],
   "source": [
    "score_svm = cross_val_score(model_svm,X,y,cv=k_fold,n_jobs=1,scoring='accuracy')\n",
    "print(score_svm)"
   ]
  },
  {
   "cell_type": "code",
   "execution_count": 55,
   "id": "8ac4e671",
   "metadata": {},
   "outputs": [
    {
     "data": {
      "text/plain": [
       "84.17999999999999"
      ]
     },
     "execution_count": 55,
     "metadata": {},
     "output_type": "execute_result"
    }
   ],
   "source": [
    "score_svm.mean()*100"
   ]
  },
  {
   "cell_type": "code",
   "execution_count": 56,
   "id": "4986f560",
   "metadata": {},
   "outputs": [],
   "source": [
    "from sklearn.linear_model import LogisticRegression"
   ]
  },
  {
   "cell_type": "code",
   "execution_count": 57,
   "id": "020132c9",
   "metadata": {},
   "outputs": [],
   "source": [
    "model_lr = LogisticRegression()"
   ]
  },
  {
   "cell_type": "code",
   "execution_count": 58,
   "id": "a98adc34",
   "metadata": {},
   "outputs": [
    {
     "data": {
      "text/html": [
       "<style>#sk-container-id-2 {color: black;background-color: white;}#sk-container-id-2 pre{padding: 0;}#sk-container-id-2 div.sk-toggleable {background-color: white;}#sk-container-id-2 label.sk-toggleable__label {cursor: pointer;display: block;width: 100%;margin-bottom: 0;padding: 0.3em;box-sizing: border-box;text-align: center;}#sk-container-id-2 label.sk-toggleable__label-arrow:before {content: \"▸\";float: left;margin-right: 0.25em;color: #696969;}#sk-container-id-2 label.sk-toggleable__label-arrow:hover:before {color: black;}#sk-container-id-2 div.sk-estimator:hover label.sk-toggleable__label-arrow:before {color: black;}#sk-container-id-2 div.sk-toggleable__content {max-height: 0;max-width: 0;overflow: hidden;text-align: left;background-color: #f0f8ff;}#sk-container-id-2 div.sk-toggleable__content pre {margin: 0.2em;color: black;border-radius: 0.25em;background-color: #f0f8ff;}#sk-container-id-2 input.sk-toggleable__control:checked~div.sk-toggleable__content {max-height: 200px;max-width: 100%;overflow: auto;}#sk-container-id-2 input.sk-toggleable__control:checked~label.sk-toggleable__label-arrow:before {content: \"▾\";}#sk-container-id-2 div.sk-estimator input.sk-toggleable__control:checked~label.sk-toggleable__label {background-color: #d4ebff;}#sk-container-id-2 div.sk-label input.sk-toggleable__control:checked~label.sk-toggleable__label {background-color: #d4ebff;}#sk-container-id-2 input.sk-hidden--visually {border: 0;clip: rect(1px 1px 1px 1px);clip: rect(1px, 1px, 1px, 1px);height: 1px;margin: -1px;overflow: hidden;padding: 0;position: absolute;width: 1px;}#sk-container-id-2 div.sk-estimator {font-family: monospace;background-color: #f0f8ff;border: 1px dotted black;border-radius: 0.25em;box-sizing: border-box;margin-bottom: 0.5em;}#sk-container-id-2 div.sk-estimator:hover {background-color: #d4ebff;}#sk-container-id-2 div.sk-parallel-item::after {content: \"\";width: 100%;border-bottom: 1px solid gray;flex-grow: 1;}#sk-container-id-2 div.sk-label:hover label.sk-toggleable__label {background-color: #d4ebff;}#sk-container-id-2 div.sk-serial::before {content: \"\";position: absolute;border-left: 1px solid gray;box-sizing: border-box;top: 0;bottom: 0;left: 50%;z-index: 0;}#sk-container-id-2 div.sk-serial {display: flex;flex-direction: column;align-items: center;background-color: white;padding-right: 0.2em;padding-left: 0.2em;position: relative;}#sk-container-id-2 div.sk-item {position: relative;z-index: 1;}#sk-container-id-2 div.sk-parallel {display: flex;align-items: stretch;justify-content: center;background-color: white;position: relative;}#sk-container-id-2 div.sk-item::before, #sk-container-id-2 div.sk-parallel-item::before {content: \"\";position: absolute;border-left: 1px solid gray;box-sizing: border-box;top: 0;bottom: 0;left: 50%;z-index: -1;}#sk-container-id-2 div.sk-parallel-item {display: flex;flex-direction: column;z-index: 1;position: relative;background-color: white;}#sk-container-id-2 div.sk-parallel-item:first-child::after {align-self: flex-end;width: 50%;}#sk-container-id-2 div.sk-parallel-item:last-child::after {align-self: flex-start;width: 50%;}#sk-container-id-2 div.sk-parallel-item:only-child::after {width: 0;}#sk-container-id-2 div.sk-dashed-wrapped {border: 1px dashed gray;margin: 0 0.4em 0.5em 0.4em;box-sizing: border-box;padding-bottom: 0.4em;background-color: white;}#sk-container-id-2 div.sk-label label {font-family: monospace;font-weight: bold;display: inline-block;line-height: 1.2em;}#sk-container-id-2 div.sk-label-container {text-align: center;}#sk-container-id-2 div.sk-container {/* jupyter's `normalize.less` sets `[hidden] { display: none; }` but bootstrap.min.css set `[hidden] { display: none !important; }` so we also need the `!important` here to be able to override the default hidden behavior on the sphinx rendered scikit-learn.org. See: https://github.com/scikit-learn/scikit-learn/issues/21755 */display: inline-block !important;position: relative;}#sk-container-id-2 div.sk-text-repr-fallback {display: none;}</style><div id=\"sk-container-id-2\" class=\"sk-top-container\"><div class=\"sk-text-repr-fallback\"><pre>LogisticRegression()</pre><b>In a Jupyter environment, please rerun this cell to show the HTML representation or trust the notebook. <br />On GitHub, the HTML representation is unable to render, please try loading this page with nbviewer.org.</b></div><div class=\"sk-container\" hidden><div class=\"sk-item\"><div class=\"sk-estimator sk-toggleable\"><input class=\"sk-toggleable__control sk-hidden--visually\" id=\"sk-estimator-id-2\" type=\"checkbox\" checked><label for=\"sk-estimator-id-2\" class=\"sk-toggleable__label sk-toggleable__label-arrow\">LogisticRegression</label><div class=\"sk-toggleable__content\"><pre>LogisticRegression()</pre></div></div></div></div></div>"
      ],
      "text/plain": [
       "LogisticRegression()"
      ]
     },
     "execution_count": 58,
     "metadata": {},
     "output_type": "execute_result"
    }
   ],
   "source": [
    "model_lr.fit(X_train,y_train)"
   ]
  },
  {
   "cell_type": "code",
   "execution_count": 59,
   "id": "f8a24f0c",
   "metadata": {},
   "outputs": [
    {
     "data": {
      "text/plain": [
       "0.84"
      ]
     },
     "execution_count": 59,
     "metadata": {},
     "output_type": "execute_result"
    }
   ],
   "source": [
    "model_lr.score(X_test,y_test)"
   ]
  },
  {
   "cell_type": "code",
   "execution_count": null,
   "id": "6951b61b",
   "metadata": {},
   "outputs": [],
   "source": []
  },
  {
   "cell_type": "code",
   "execution_count": null,
   "id": "6b550ebe",
   "metadata": {},
   "outputs": [],
   "source": []
  }
 ],
 "metadata": {
  "kernelspec": {
   "display_name": "Python 3 (ipykernel)",
   "language": "python",
   "name": "python3"
  },
  "language_info": {
   "codemirror_mode": {
    "name": "ipython",
    "version": 3
   },
   "file_extension": ".py",
   "mimetype": "text/x-python",
   "name": "python",
   "nbconvert_exporter": "python",
   "pygments_lexer": "ipython3",
   "version": "3.10.9"
  }
 },
 "nbformat": 4,
 "nbformat_minor": 5
}
